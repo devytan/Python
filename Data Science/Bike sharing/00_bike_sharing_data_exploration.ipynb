{
 "cells": [
  {
   "cell_type": "markdown",
   "id": "2482b4ac-a907-4d83-94b0-a6f0e1519585",
   "metadata": {
    "tags": []
   },
   "source": [
    "## Import and initialization"
   ]
  },
  {
   "cell_type": "code",
   "execution_count": null,
   "id": "1c900eeb-5469-42e9-942f-146c3275f730",
   "metadata": {},
   "outputs": [],
   "source": [
    "# data processing libraries\n",
    "import pandas as pd\n",
    "\n",
    "# plot libraries\n",
    "import plotly.express as px"
   ]
  },
  {
   "cell_type": "markdown",
   "id": "d0b10a1c-e363-4232-b079-4bf818d9a3c4",
   "metadata": {
    "tags": []
   },
   "source": [
    "## Functions"
   ]
  },
  {
   "cell_type": "code",
   "execution_count": null,
   "id": "48daa1ec-bec3-4f38-a002-d1f556209ce6",
   "metadata": {},
   "outputs": [],
   "source": [
    "# Scale plot for better view\n",
    "def scale_plot(fig, x_max, y_max):\n",
    "    fig.update_layout(autosize = False, width = x_max, height = y_max)"
   ]
  },
  {
   "cell_type": "code",
   "execution_count": null,
   "id": "71d960f6-a2ea-46e4-879c-e2130998713b",
   "metadata": {},
   "outputs": [],
   "source": [
    "# # Scale plot for better view\n",
    "# def update_legends(fig, main_title, x_title, y_title, leg_title):\n",
    "#     fig.update_layout(title = main_title, xaxis_title = x_title, yaxis_title = y_title, legend_title = leg_title, font = dict (family = \"Arial\", size = 14, color = 'black'))"
   ]
  },
  {
   "cell_type": "markdown",
   "id": "c3774328-3590-4b86-9b95-df0dfc793dc7",
   "metadata": {
    "tags": []
   },
   "source": [
    "## Data Preparation and Management"
   ]
  },
  {
   "cell_type": "code",
   "execution_count": null,
   "id": "7a25daa5-226d-4bb7-b731-836170d2a832",
   "metadata": {},
   "outputs": [],
   "source": [
    "# Load CVS files into Data Frames\n",
    "df_hour = pd.DataFrame(pd.read_csv('dataset/hour.csv'))"
   ]
  },
  {
   "cell_type": "code",
   "execution_count": null,
   "id": "0d4b9c9d-4e2c-45f5-b3e9-bc24f06cc86f",
   "metadata": {},
   "outputs": [],
   "source": [
    "df_hour"
   ]
  },
  {
   "cell_type": "markdown",
   "id": "00adc9d4-c84e-4f1a-b5f3-74dcd4eaf466",
   "metadata": {},
   "source": [
    "For easy chart reading relabelling will be done on several columns including year, season, month, weekday, holiday, working day and weathersit"
   ]
  },
  {
   "cell_type": "code",
   "execution_count": null,
   "id": "eebd19bd-54f5-4177-a848-c3b72a577393",
   "metadata": {
    "tags": []
   },
   "outputs": [],
   "source": [
    "# Relabel values within Loaded Data Frame\n",
    "# Season labels\n",
    "old_year = [0, 1]\n",
    "new_year = ['2011', '2012']\n",
    "df_hour['yr'] = df_hour['yr'].replace(old_year, new_year)\n",
    "\n",
    "# Season labels\n",
    "old_season = [1, 2, 3, 4]\n",
    "new_season = ['Spring', 'Summer', 'Autumn', 'Winter']\n",
    "df_hour['season'] = df_hour['season'].replace(old_season, new_season)\n",
    "\n",
    "# Month labels\n",
    "old_month = [1, 2, 3, 4, 5, 6, 7, 8, 9, 10, 11, 12]\n",
    "new_month = ['January', 'February', 'March', 'April', 'May', 'June', 'July', 'August', 'September', 'October', 'November', 'December']\n",
    "df_hour['mnth'] = df_hour['mnth'].replace(old_month, new_month)\n",
    "\n",
    "# Weekday labels\n",
    "old_weekday = [0, 1, 2, 3, 4, 5, 6]\n",
    "new_weekday = ['Sunday', 'Monday', 'Tuesday', 'Wednesday', 'Thrusday', 'Friday', 'Saturday']\n",
    "df_hour['weekday'] = df_hour['weekday'].replace(old_weekday, new_weekday)\n",
    "\n",
    "# Holiday labels\n",
    "old_holiday = [0, 1]\n",
    "new_holiday = ['No', 'Yes']\n",
    "df_hour['holiday'] = df_hour['holiday'].replace(old_holiday, new_holiday)\n",
    "\n",
    "# Working day labels\n",
    "old_working_day = [0, 1]\n",
    "new_working_day = ['No', 'Yes']\n",
    "df_hour['workingday'] = df_hour['workingday'].replace(old_working_day, new_working_day)\n",
    "\n",
    "# Weather situation labels\n",
    "old_weathersit = [1, 2, 3, 4]\n",
    "new_weathersit = ['Light', 'Medium', 'Heavy', 'Very Heavy']\n",
    "df_hour['weathersit'] = df_hour['weathersit'].replace(old_weathersit, new_weathersit)\n",
    "\n",
    "# Hour labels > catergory order for plots\n",
    "hours = [0, 1, 2, 3, 4, 5, 6, 7, 8, 9, 10, 11, 12, 13, 14, 15, 16, 17, 18, 19, 20, 21, 22, 23]"
   ]
  },
  {
   "cell_type": "markdown",
   "id": "635ac7c1-f1f7-4bf0-a18a-efcf5839004c",
   "metadata": {},
   "source": [
    "To get a better understanding of market behaviour only hourly data will be processed and visualised"
   ]
  },
  {
   "cell_type": "code",
   "execution_count": null,
   "id": "e43c3a87-0bb2-496c-b94e-68a744e79c5c",
   "metadata": {},
   "outputs": [],
   "source": [
    "# Write updated hour data frame into CSV flile\n",
    "df_hour.to_csv('dataset/bike_sharing_hour_transformed.csv')"
   ]
  },
  {
   "cell_type": "markdown",
   "id": "b5d0afd1-d8ac-4cb2-8be0-c85a0a545f5c",
   "metadata": {
    "tags": []
   },
   "source": [
    "## Data Exploration with Visualization\n",
    "Explore any visible pattern between the data set"
   ]
  },
  {
   "cell_type": "markdown",
   "id": "a5b03cc4-bdac-4233-8d0a-0fd4958a32fd",
   "metadata": {
    "tags": []
   },
   "source": [
    "### Grouped Data Set"
   ]
  },
  {
   "cell_type": "markdown",
   "id": "0eb39996-d98e-4406-ba7e-38b7f7e1d0fb",
   "metadata": {
    "tags": []
   },
   "source": [
    "#### Plots with Group by Hours and Months"
   ]
  },
  {
   "cell_type": "code",
   "execution_count": null,
   "id": "67746a3e-8e60-435a-9bb2-45249f76eb53",
   "metadata": {},
   "outputs": [],
   "source": [
    "# Group by Months and Hours for Sum of Casual, Registered and Total Rental\n",
    "df_hour_month_total = df_hour.groupby(['mnth', 'hr'])['cnt'].sum().reset_index()\n",
    "df_hour_month_casual = df_hour.groupby(['mnth', 'hr'])['casual'].sum().reset_index()\n",
    "df_hour_month_registered = df_hour.groupby(['mnth', 'hr'])['registered'].sum().reset_index()"
   ]
  },
  {
   "cell_type": "code",
   "execution_count": null,
   "id": "445edddd-5dd4-434e-80a7-261b0a90de1f",
   "metadata": {},
   "outputs": [],
   "source": [
    "# Hour vs Months for Sum of Total Rental\n",
    "fig = px.scatter(df_hour_month_total, x = 'hr', y = 'mnth', color = 'cnt', size = 'cnt', opacity = 0.75, category_orders = {'mnth':new_month}, \n",
    "                 title = 'Hour vs Month for Sum of Rentals', labels = {'hr': 'Hours', 'mnth' : 'Month', 'cnt' : 'Sum of Rentals'})\n",
    "scale_plot(fig, 1200, 900)\n",
    "fig.show()"
   ]
  },
  {
   "cell_type": "code",
   "execution_count": null,
   "id": "f095e6c9-1e01-4dca-be02-bee49e89757b",
   "metadata": {},
   "outputs": [],
   "source": [
    "# Hour vs Months for Sum of Total Rental\n",
    "fig = px.line_3d(df_hour_month_total, x = 'hr', y = 'mnth', z = 'cnt', color = 'mnth', category_orders = {'mnth':new_month}, \n",
    "                 title = 'Hour vs Month for Sum of Rentals', labels = {'hr': 'Hours', 'mnth' : 'Month', 'cnt' : 'Sum of Rentals'})\n",
    "scale_plot(fig, 1200, 900)\n",
    "fig.show()"
   ]
  },
  {
   "cell_type": "code",
   "execution_count": null,
   "id": "b605b735-c72a-4c3f-b460-03955ef7d3af",
   "metadata": {},
   "outputs": [],
   "source": [
    "# Hour vs Months for Sum of Total Rental\n",
    "fig = px.scatter(df_hour_month_casual, x = 'hr', y = 'mnth', color = 'casual', size = 'casual', opacity = 0.75, category_orders = {'mnth':new_month}, \n",
    "                 title = 'Hour vs Month for Sum of Casual Rentals', labels = {'hr': 'Hours', 'mnth' : 'Month', 'casual' : 'Sum of Casual Rentals'})\n",
    "scale_plot(fig, 1200, 900)\n",
    "fig.show()"
   ]
  },
  {
   "cell_type": "code",
   "execution_count": null,
   "id": "46c5a1b3-d3e7-43e4-a0f5-9e413ec2c98b",
   "metadata": {},
   "outputs": [],
   "source": [
    "# Hour vs Months for Sum of Total Rental\n",
    "fig = px.line_3d(df_hour_month_casual, x = 'hr', y = 'mnth', z = 'casual', color = 'mnth', category_orders = {'mnth':new_month}, \n",
    "                 title = 'Hour vs Month for Sum of Casual Rentals', labels = {'hr': 'Hours', 'mnth' : 'Month', 'casual' : 'Sum of Casual Rentals'})\n",
    "scale_plot(fig, 1200, 900)\n",
    "fig.show()"
   ]
  },
  {
   "cell_type": "code",
   "execution_count": null,
   "id": "d899c7f2-8168-4ce9-a6c1-b48854116ceb",
   "metadata": {},
   "outputs": [],
   "source": [
    "# Hour vs Months for Sum of Total Rental\n",
    "fig = px.scatter(df_hour_month_registered, x = 'hr', y = 'mnth', color = 'registered', size = 'registered', opacity = 0.75, category_orders = {'mnth':new_month}, \n",
    "                 title = 'Hour vs Month for Sum of Registered Rentals', labels = {'hr': 'Hours', 'mnth' : 'Month', 'registered' : 'Sum of Registered Rentals'})\n",
    "scale_plot(fig, 1200, 900)\n",
    "fig.show()"
   ]
  },
  {
   "cell_type": "code",
   "execution_count": null,
   "id": "71371ca0-a487-41be-9bdc-ef5e7baeb15f",
   "metadata": {},
   "outputs": [],
   "source": [
    "# Hour vs Months for Sum of Total Rental\n",
    "fig = px.line_3d(df_hour_month_registered, x = 'hr', y = 'mnth', z = 'registered', color = 'mnth', category_orders = {'mnth':new_month}, \n",
    "                 title = 'Hour vs Month for Sum of Registered Rentals', labels = {'hr': 'Hours', 'mnth' : 'Month', 'registered' : 'Sum of Registered Rentals'})\n",
    "scale_plot(fig, 1200, 900)\n",
    "fig.show()"
   ]
  },
  {
   "cell_type": "markdown",
   "id": "feeecf44-dc5c-4fa5-a865-17ca0632b6e5",
   "metadata": {
    "tags": []
   },
   "source": [
    "#### Plots with Group by Hours and Weekday"
   ]
  },
  {
   "cell_type": "code",
   "execution_count": null,
   "id": "750ca90a-7971-4e09-aedf-08253717894c",
   "metadata": {},
   "outputs": [],
   "source": [
    "# Group by Hour and Weekday for Sum of Casual, Registered and Total Rental\n",
    "df_hour_weekday_total = df_hour.groupby(['hr', 'weekday'])['cnt'].sum().reset_index()\n",
    "df_hour_weekday_casual = df_hour.groupby(['hr', 'weekday'])['casual'].sum().reset_index()\n",
    "df_hour_weekday_registered = df_hour.groupby(['hr', 'weekday'])['registered'].sum().reset_index()"
   ]
  },
  {
   "cell_type": "code",
   "execution_count": null,
   "id": "e9ec3613-fb56-4734-b051-24ae085847ea",
   "metadata": {},
   "outputs": [],
   "source": [
    "# Scatter Plot # Hour vs Months for Sum of Total Rental\n",
    "fig = px.scatter(df_hour_weekday_total, x = 'hr', y = 'weekday', color = 'cnt', size = 'cnt', opacity = 0.75, category_orders = {'weekday' : new_weekday}, \n",
    "                 title = 'Hour vs Weekday for Sum of Total Rentals', labels = {'hr': 'Hours', 'weekday' : 'Weekday', 'cnt' : 'Sum of Total Rentals'})\n",
    "scale_plot(fig, 1200, 900)\n",
    "fig.show()"
   ]
  },
  {
   "cell_type": "code",
   "execution_count": null,
   "id": "a7e7123e-962c-433d-93fa-f47cda7b9cce",
   "metadata": {},
   "outputs": [],
   "source": [
    "# Hour vs Months for Sum of Total Rental\n",
    "fig = px.line_3d(df_hour_weekday_total, x = 'hr', y = 'weekday', z = 'cnt', color = 'weekday', category_orders = {'weekday' : new_weekday}, \n",
    "                 title = 'Hour vs Weekday for Sum of Total Rentals', labels = {'hr': 'Hours', 'weekday' : 'Weekday', 'cnt' : 'Sum of Total Rentals'})\n",
    "scale_plot(fig, 1200, 900)\n",
    "fig.show()"
   ]
  },
  {
   "cell_type": "code",
   "execution_count": null,
   "id": "42c418e4-b282-44ac-a752-bf9c6f22af54",
   "metadata": {},
   "outputs": [],
   "source": [
    "# Hour vs Months for Total of Casual Rentals\n",
    "fig = px.scatter(df_hour_weekday_casual, x = 'hr', y = 'weekday', color = 'casual', size = 'casual', opacity = 0.75, category_orders = {'weekday' : new_weekday}, \n",
    "                 title = 'Hour vs Weekday for Total of Casual Rentals', labels = {'hr': 'Hours', 'weekday' : 'Weekday', 'casual' : 'Sum of Total Casual Rentals'})\n",
    "scale_plot(fig, 1200, 900)\n",
    "fig.show()"
   ]
  },
  {
   "cell_type": "code",
   "execution_count": null,
   "id": "a3fde74b-7d1c-4c4d-835f-f1a8010082a0",
   "metadata": {},
   "outputs": [],
   "source": [
    "# Hour vs Months for Total of Casual Rentals\n",
    "fig = px.line_3d(df_hour_weekday_casual, x = 'hr', y = 'weekday', z = 'casual', color = 'weekday', category_orders = {'weekday' : new_weekday}, \n",
    "                 title = 'Hour vs Weekday for Total of Casual Rentals', labels = {'hr': 'Hours', 'weekday' : 'Weekday', 'casual' : 'Sum of Total Casual Rentals'})\n",
    "scale_plot(fig, 1200, 900)\n",
    "fig.show()"
   ]
  },
  {
   "cell_type": "code",
   "execution_count": null,
   "id": "94e37d50-6c38-4447-b38d-dde8ecb096b4",
   "metadata": {
    "tags": []
   },
   "outputs": [],
   "source": [
    "# Hour vs Months for Total of Casual Rentals\n",
    "fig = px.scatter(df_hour_weekday_registered, x = 'hr', y = 'weekday', color = 'registered', size = 'registered', opacity = 0.75, category_orders = {'weekday' : new_weekday}, \n",
    "                 title = 'Hour vs Weekday for Total of Registered Rentals', labels = {'hr': 'Hours', 'weekday' : 'Weekday', 'casual' : 'Sum of Total Registered Rentals'})\n",
    "scale_plot(fig, 1200, 900)\n",
    "fig.show()"
   ]
  },
  {
   "cell_type": "code",
   "execution_count": null,
   "id": "8cd46630-4955-4d98-8004-9e354154c779",
   "metadata": {},
   "outputs": [],
   "source": [
    "# Hour vs Months for Total of Casual Rentals\n",
    "fig = px.line_3d(df_hour_weekday_registered, x = 'hr', y = 'weekday', z = 'registered', color = 'weekday', category_orders = {'weekday' : new_weekday}, \n",
    "                 title = 'Hour vs Weekday for Total of Registered Rentals', labels = {'hr': 'Hours', 'weekday' : 'Weekday', 'casual' : 'Total of Registered Rentals'})\n",
    "scale_plot(fig, 1200, 1200)\n",
    "fig.show()"
   ]
  },
  {
   "cell_type": "markdown",
   "id": "6b97a577-8143-4376-9229-f7753d9bb569",
   "metadata": {
    "tags": []
   },
   "source": [
    "#### Plots with Group by Hours and Seasons"
   ]
  },
  {
   "cell_type": "code",
   "execution_count": null,
   "id": "74c0d20d-a4e6-452d-a612-84a5429d403a",
   "metadata": {},
   "outputs": [],
   "source": [
    "# Group by Hours and Season for Sum of Casual, Registered and Total Rental\n",
    "df_hour_season_total = df_hour.groupby(['hr', 'season'])['cnt'].sum().reset_index()\n",
    "df_hour_season_casual = df_hour.groupby(['hr', 'season'])['casual'].sum().reset_index()\n",
    "df_hour_season_registered = df_hour.groupby(['hr', 'season'])['registered'].sum().reset_index()"
   ]
  },
  {
   "cell_type": "code",
   "execution_count": null,
   "id": "aaddb8a5-9bda-42a0-b9f0-bccdc7a5800f",
   "metadata": {},
   "outputs": [],
   "source": [
    "# Scatter Plot # Hour vs Months for Sum of Total Rental\n",
    "fig = px.scatter(df_hour_season_total, x = 'hr', y = 'season', color = 'cnt', size = 'cnt', opacity = 0.75, category_orders = {'season' : new_season}, \n",
    "                 title = 'Hour vs Season for Total Rentals', labels = {'hr': 'Hours', 'weekday' : 'Weekday', 'cnt' : 'Total Rentals'})\n",
    "scale_plot(fig, 1200, 900)\n",
    "fig.show()"
   ]
  },
  {
   "cell_type": "code",
   "execution_count": null,
   "id": "83432586-4ea2-4fcd-8fca-bbd999229a5c",
   "metadata": {},
   "outputs": [],
   "source": [
    "# Hour vs Season for Total Rental\n",
    "fig = px.line_3d(df_hour_season_total, x = 'hr', y = 'season', z = 'cnt', color = 'season', category_orders = {'season' : new_season}, \n",
    "                 title = 'Hour vs Season for Total Rentals', labels = {'hr': 'Hour', 'season' : 'Season', 'cnt' : 'Total Rentals'})\n",
    "scale_plot(fig, 1200, 900)\n",
    "fig.show()"
   ]
  },
  {
   "cell_type": "code",
   "execution_count": null,
   "id": "6400eff3-4f5a-4860-bb6a-c4c1d6ec815c",
   "metadata": {},
   "outputs": [],
   "source": [
    "# Scatter Plot # Hour vs Months for Sum of Total Rental\n",
    "fig = px.scatter(df_hour_season_casual, x = 'hr', y = 'season', color = 'casual', size = 'casual', opacity = 0.75, category_orders = {'season' : new_season}, \n",
    "                 title = 'Hour vs Season for Total Casual Rentals', labels = {'hr': 'Hour', 'season' : 'Season', 'casual' : 'Total Rentals'})\n",
    "scale_plot(fig, 1200, 900)\n",
    "fig.show()"
   ]
  },
  {
   "cell_type": "code",
   "execution_count": null,
   "id": "15139231-43b1-4528-bbed-96d6958077eb",
   "metadata": {},
   "outputs": [],
   "source": [
    "# Hour vs Season for Total Casual Rental\n",
    "fig = px.line_3d(df_hour_season_casual, x = 'hr', y = 'season', z = 'casual', color = 'season', category_orders = {'season' : new_season}, \n",
    "                 title = 'Hour vs Season for Total of Casual Rentals', labels = {'hr': 'Hour', 'season' : 'Season', 'casual' : 'Total Rentals'})\n",
    "scale_plot(fig, 1200, 900)\n",
    "fig.show()"
   ]
  },
  {
   "cell_type": "code",
   "execution_count": null,
   "id": "f3d7f963-5d18-4035-b105-17627ae956de",
   "metadata": {},
   "outputs": [],
   "source": [
    "# Scatter Plot # Hour vs Months for Sum of Total Rental\n",
    "fig = px.scatter(df_hour_season_registered, x = 'hr', y = 'season', color = 'registered', size = 'registered', opacity = 0.75, category_orders = {'season' : new_season}, \n",
    "                 title = 'Hour vs Season for Total Registered Rentals', labels = {'hr': 'Hour', 'season' : 'Season', 'casual' : 'Total Registered Rentals'})\n",
    "scale_plot(fig, 1200, 900)\n",
    "fig.show()"
   ]
  },
  {
   "cell_type": "code",
   "execution_count": null,
   "id": "f2031441-22b2-4313-a180-e59db7df68ce",
   "metadata": {},
   "outputs": [],
   "source": [
    "# Hour vs Season for Total Casual Rental\n",
    "fig = px.line_3d(df_hour_season_registered, x = 'hr', y = 'season', z = 'registered', color = 'season', category_orders = {'season' : new_season}, \n",
    "                 title = 'Hour vs Season for Total of Registered Rentals', labels = {'hr': 'Hour', 'season' : 'Season', 'registered' : 'Total Registered Rentals'})\n",
    "scale_plot(fig, 1200, 900)\n",
    "fig.show()"
   ]
  },
  {
   "cell_type": "markdown",
   "id": "438d3690-e7b3-419b-a291-255683345543",
   "metadata": {
    "tags": []
   },
   "source": [
    "### Plots with Group by Hours and Weather Situation"
   ]
  },
  {
   "cell_type": "code",
   "execution_count": null,
   "id": "b90c84e1-2ad6-45a1-b589-392352e9dcfc",
   "metadata": {},
   "outputs": [],
   "source": [
    "# Group by Months and Hours for Sum of Total Rental\n",
    "df_hour_weathersit = df_hour.groupby(['hr', 'weathersit'])['cnt'].sum().reset_index()"
   ]
  },
  {
   "cell_type": "code",
   "execution_count": null,
   "id": "0932cd96-7a2f-4aeb-9ef5-af9de43329a7",
   "metadata": {},
   "outputs": [],
   "source": [
    "# Scatter Plot # Hour vs Months for Sum of Total Rental\n",
    "fig = px.scatter(df_hour_weathersit, x = 'hr', y = 'weathersit', color = 'cnt', size = 'cnt', opacity = 0.75, category_orders = {'weathersit': new_weathersit})\n",
    "fig.show()"
   ]
  },
  {
   "cell_type": "code",
   "execution_count": null,
   "id": "3c2a17ac-9454-4da9-95ce-0befbf104634",
   "metadata": {},
   "outputs": [],
   "source": [
    "# Scatter Plot # Hour vs Months for Sum of Total Rental\n",
    "fig = px.line_3d(df_hour_weathersit, x = 'hr', y = 'weathersit', z = 'cnt', color = 'weathersit', category_orders = {'weathersit': new_weathersit})\n",
    "scale_plot(fig, 1200, 900)\n",
    "fig.show()"
   ]
  },
  {
   "cell_type": "markdown",
   "id": "72c2ed0b-9e16-4c24-aace-7ebcdcc536e2",
   "metadata": {
    "tags": []
   },
   "source": [
    "### Plots with Group by Hours, Months and Years"
   ]
  },
  {
   "cell_type": "code",
   "execution_count": null,
   "id": "498cc220-cdac-4742-a758-12752e5606e5",
   "metadata": {},
   "outputs": [],
   "source": [
    "# Group by Months and Hours for Sum of Total Rental\n",
    "df_hour_mnth_yr = df_hour.groupby(['hr', 'mnth', 'yr'])['cnt'].sum().reset_index()"
   ]
  },
  {
   "cell_type": "code",
   "execution_count": null,
   "id": "829c904b-8694-4689-b139-c4c9bd712e49",
   "metadata": {},
   "outputs": [],
   "source": [
    "# Scatter Plot # Hour vs Months for Sum of Total Rental\n",
    "fig = px.scatter(df_hour_mnth_yr, x = 'hr', y = 'mnth', facet_row = 'yr', color = 'cnt', size = 'cnt', opacity = 0.75, category_orders = {'mnth': new_month})\n",
    "scale_plot(fig, 1200, 900)\n",
    "fig.show()"
   ]
  },
  {
   "cell_type": "code",
   "execution_count": null,
   "id": "70434628-d69b-4638-b4c5-f81b3fc6cedc",
   "metadata": {},
   "outputs": [],
   "source": [
    "# Scatter Plot # Hour vs Months for Sum of Total Rental\n",
    "fig = px.line_3d(df_hour_mnth_yr[df_hour_mnth_yr['yr'] == 0], x = 'hr', y = 'mnth', z = 'cnt', color = 'mnth', category_orders = {'mnth': new_month})\n",
    "scale_plot(fig, 1200, 1200)\n",
    "fig.show()"
   ]
  },
  {
   "cell_type": "code",
   "execution_count": null,
   "id": "c073cfa5-03ad-4d31-b3b7-54ca6e108c21",
   "metadata": {},
   "outputs": [],
   "source": [
    "# Scatter Plot # Hour vs Months for Sum of Total Rental\n",
    "fig = px.line_3d(df_hour_mnth_yr[df_hour_mnth_yr['yr'] == 1], x = 'hr', y = 'mnth', z = 'cnt', color = 'mnth', category_orders = {'mnth': new_month})\n",
    "scale_plot(fig, 1200, 1200)\n",
    "fig.show()"
   ]
  },
  {
   "cell_type": "markdown",
   "id": "202449a0-4c1d-488f-865b-4c1874fd06c7",
   "metadata": {
    "tags": []
   },
   "source": [
    "### Plots with Group by Hours, Months and Holiday"
   ]
  },
  {
   "cell_type": "code",
   "execution_count": null,
   "id": "f2940d73-fa7a-4182-b8d8-ffc780c26b4e",
   "metadata": {},
   "outputs": [],
   "source": [
    "# Group by Months and Hours for Sum of Total Rental\n",
    "df_hour_hol_mnth = df_hour.groupby(['hr', 'mnth', 'holiday'])['cnt'].sum().reset_index()"
   ]
  },
  {
   "cell_type": "code",
   "execution_count": null,
   "id": "19e8c80b-ab98-488d-b0c6-e6a48ae0806a",
   "metadata": {},
   "outputs": [],
   "source": [
    "# Scatter Plot # Hour vs Months for Sum of Total Rental\n",
    "fig = px.scatter(df_hour_hol_mnth, x = 'hr', y = 'mnth', facet_row = 'holiday', color = 'cnt', size = 'cnt', opacity = 0.75, category_orders = {'mnth': new_month})\n",
    "scale_plot(fig, 1200, 2000)\n",
    "fig.show()"
   ]
  },
  {
   "cell_type": "code",
   "execution_count": null,
   "id": "0b86c063-2135-4b3a-bfed-0642fa62f330",
   "metadata": {},
   "outputs": [],
   "source": [
    "# Scatter Plot # Hour vs Months for Sum of Total Rental\n",
    "#df_hour_hol_mnth_yes = df_hour_hol_mnth[df_hour_hol_mnth['holiday'] == 'Yes']\n",
    "fig = px.line_3d(df_hour_hol_mnth[df_hour_hol_mnth['holiday'] == 'Yes'], x = 'hr', y = 'mnth', z = 'cnt', color = 'mnth', category_orders = {'mnth': new_month})\n",
    "scale_plot(fig, 1200, 900)\n",
    "fig.show()"
   ]
  },
  {
   "cell_type": "code",
   "execution_count": null,
   "id": "b510463f-2e20-4a68-8e46-8fd9b9011904",
   "metadata": {},
   "outputs": [],
   "source": [
    "fig = px.line_3d(df_hour_hol_mnth[df_hour_hol_mnth['holiday'] == 'No'], x = 'hr', y = 'mnth', z = 'cnt', color = 'mnth', category_orders = {'mnth': new_month})\n",
    "scale_plot(fig, 1200, 900)\n",
    "fig.show()"
   ]
  },
  {
   "cell_type": "markdown",
   "id": "656ccd5d-1d4e-4325-b25e-c0e53f90f46a",
   "metadata": {
    "tags": []
   },
   "source": [
    "### Plots with Group by Hours, Months and Weather Situations"
   ]
  },
  {
   "cell_type": "code",
   "execution_count": null,
   "id": "a882bf39-3c5f-4117-9baf-6c675fe7dd19",
   "metadata": {},
   "outputs": [],
   "source": [
    "# Group by Months, Hours and Weather Situations for Sum of Total Rental\n",
    "df_hour_mnth_weathersit = df_hour.groupby(['hr', 'mnth', 'weathersit'])['cnt'].sum().reset_index()"
   ]
  },
  {
   "cell_type": "code",
   "execution_count": null,
   "id": "5f094ec3-a82a-4491-8ddb-97968f40fc8f",
   "metadata": {},
   "outputs": [],
   "source": [
    "# Scatter Plot # Hour vs Months for Sum of Total Rental separated by Weather Situations\n",
    "fig = px.scatter(df_hour_mnth_weathersit, x = 'hr', y = 'mnth', facet_row = 'weathersit', color = 'cnt', size = 'cnt', opacity = 0.75, category_orders = {'weathersit' : new_weathersit, 'mnth': new_month})\n",
    "scale_plot(fig, 1200, 2000)\n",
    "fig.show()"
   ]
  },
  {
   "cell_type": "code",
   "execution_count": null,
   "id": "71e769d5-8ec5-4597-96e2-e7a936169770",
   "metadata": {},
   "outputs": [],
   "source": [
    "# Group by Weekday, Hours and Weather Situations for Sum of Total Rental\n",
    "df_hour_weekday_weathersit = df_hour.groupby(['hr', 'weekday', 'weathersit'])['cnt'].sum().reset_index()"
   ]
  },
  {
   "cell_type": "code",
   "execution_count": null,
   "id": "34d703f1-7af0-4e67-8cca-c0dc9a7c88b3",
   "metadata": {},
   "outputs": [],
   "source": [
    "# Scatter Plot # Hour vs Months for Sum of Total Rental separated by Weather Situations\n",
    "fig = px.scatter(df_hour_weekday_weathersit, x = 'hr', y = 'weekday', facet_row = 'weathersit', color = 'cnt', size = 'cnt', opacity = 0.75, category_orders = {'weathersit' : new_weathersit, 'mnth': new_month})\n",
    "scale_plot(fig, 1200, 2000)\n",
    "fig.show()"
   ]
  },
  {
   "cell_type": "code",
   "execution_count": null,
   "id": "6b2aef39-69b7-47d4-92c1-0ca93d9e3269",
   "metadata": {},
   "outputs": [],
   "source": [
    "# Scatter Plot # Hour vs Months for Sum of Total Rental\n",
    "fig = px.line_3d(df_hour_mnth_weathersit[df_hour_mnth_weathersit['weathersit'] == 'Light'], x = 'hr', y = 'mnth', z = 'cnt', color = 'mnth', category_orders = {'mnth': new_month})\n",
    "scale_plot(fig, 900, 900)\n",
    "fig.show()"
   ]
  },
  {
   "cell_type": "code",
   "execution_count": null,
   "id": "ffbc5409-91f6-4bc1-a6dc-c5fc3cc53922",
   "metadata": {},
   "outputs": [],
   "source": [
    "# Scatter Plot # Hour vs Months for Sum of Total Rental\n",
    "fig = px.line_3d(df_hour_mnth_weathersit[df_hour_mnth_weathersit['weathersit'] == 'Medium'], x = 'hr', y = 'mnth', z = 'cnt', color = 'mnth', category_orders = {'mnth': new_month})\n",
    "scale_plot(fig, 900, 900)\n",
    "fig.show()"
   ]
  },
  {
   "cell_type": "code",
   "execution_count": null,
   "id": "aba239f6-5105-4fe9-86cc-3763929174a1",
   "metadata": {},
   "outputs": [],
   "source": [
    "# Scatter Plot # Hour vs Months for Sum of Total Rental\n",
    "fig = px.line_3d(df_hour_mnth_weathersit[df_hour_mnth_weathersit['weathersit'] == 'Heavy'], x = 'hr', y = 'mnth', z = 'cnt', color = 'mnth', category_orders = {'mnth': new_month})\n",
    "scale_plot(fig, 900, 900)\n",
    "fig.show()"
   ]
  },
  {
   "cell_type": "markdown",
   "id": "2cb25bd6-1258-4803-ac02-69f05deb1a35",
   "metadata": {
    "tags": []
   },
   "source": [
    "### Plots with Group by Hours, Months and Season"
   ]
  },
  {
   "cell_type": "code",
   "execution_count": null,
   "id": "b45532b8-c66e-4e85-8b28-62a650512a01",
   "metadata": {},
   "outputs": [],
   "source": [
    "# Group by Months and Hours for Sum of Total Rental\n",
    "df_hour_mnth_season = df_hour.groupby(['hr', 'mnth', 'season'])['cnt'].sum().reset_index()"
   ]
  },
  {
   "cell_type": "code",
   "execution_count": null,
   "id": "8f8b7750-e79c-4437-a285-5303aaf928a5",
   "metadata": {},
   "outputs": [],
   "source": [
    "# Scatter Plot # Hour vs Months for Sum of Total Rental\n",
    "fig = px.scatter(df_hour_mnth_season, x = 'hr', y = 'mnth', facet_row = 'season', color = 'cnt', size = 'cnt', opacity = 0.75, category_orders = {'weathersit':new_weathersit, 'mnth': new_month})\n",
    "scale_plot(fig, 1200, 2000)\n",
    "fig.show()"
   ]
  },
  {
   "cell_type": "markdown",
   "id": "0e92ce36-4ae2-4f83-9a02-4a0bd6d464de",
   "metadata": {},
   "source": [
    "### Plots with Group by Hours, Weekdays and Months"
   ]
  },
  {
   "cell_type": "code",
   "execution_count": null,
   "id": "e872e77e-ae22-482e-87ff-5aa8786fa669",
   "metadata": {},
   "outputs": [],
   "source": [
    "# Group by Months and Hours for Sum of Total Rental\n",
    "df_hour_weekday_mnth = df_hour.groupby(['hr', 'weekday', 'mnth'])['cnt'].sum().reset_index()"
   ]
  },
  {
   "cell_type": "code",
   "execution_count": null,
   "id": "0427010c-31be-4669-946f-89f547c89fe3",
   "metadata": {},
   "outputs": [],
   "source": [
    "# Scatter Plot # Hour vs Months for Sum of Total Rental\n",
    "fig = px.scatter(df_hour_weekday_mnth, x = 'hr', y = 'mnth', color = 'cnt', size = 'cnt', facet_row = 'weekday', opacity = 0.75, category_orders = {'weekday': new_weekday, 'mnth': new_month})\n",
    "scale_plot(fig, 900, 4000)\n",
    "fig.show()"
   ]
  },
  {
   "cell_type": "code",
   "execution_count": null,
   "id": "6b7f9a7c-fb54-43cc-be23-c3911e286e64",
   "metadata": {},
   "outputs": [],
   "source": []
  }
 ],
 "metadata": {
  "kernelspec": {
   "display_name": "Python 3 (ipykernel)",
   "language": "python",
   "name": "python3"
  },
  "language_info": {
   "codemirror_mode": {
    "name": "ipython",
    "version": 3
   },
   "file_extension": ".py",
   "mimetype": "text/x-python",
   "name": "python",
   "nbconvert_exporter": "python",
   "pygments_lexer": "ipython3",
   "version": "3.9.13"
  }
 },
 "nbformat": 4,
 "nbformat_minor": 5
}
