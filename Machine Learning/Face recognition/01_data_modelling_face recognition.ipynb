{
 "cells": [
  {
   "cell_type": "markdown",
   "id": "29e0f997-e00e-4f66-bf0e-fcb0bfbd8dd7",
   "metadata": {
    "tags": []
   },
   "source": [
    "## Imports"
   ]
  },
  {
   "cell_type": "code",
   "execution_count": 1,
   "id": "9711dd9d-446f-4afa-b812-753781c4ac52",
   "metadata": {
    "tags": []
   },
   "outputs": [],
   "source": [
    "# data processing libraries\n",
    "import pandas as pd\n",
    "import pickle\n",
    "\n",
    "# data modelling libraries\n",
    "from sklearn.preprocessing import StandardScaler\n",
    "\n",
    "from sklearn.model_selection import train_test_split\n",
    "from sklearn.model_selection import GridSearchCV\n",
    "\n",
    "from sklearn.ensemble import RandomForestClassifier\n",
    "\n",
    "from sklearn.svm import SVC\n",
    "from sklearn.svm import SVR\n",
    "\n",
    "from sklearn.linear_model import LinearRegression\n",
    "from sklearn.linear_model import LogisticRegression\n",
    "from sklearn.linear_model import Lasso\n",
    "\n",
    "from sklearn.tree import DecisionTreeClassifier\n",
    "from sklearn.tree import DecisionTreeRegressor\n",
    "\n",
    "from sklearn.ensemble import RandomForestClassifier\n",
    "\n",
    "from sklearn.pipeline import make_pipeline\n",
    "from sklearn.model_selection import GridSearchCV\n",
    "from sklearn.metrics import confusion_matrix\n",
    "\n",
    "# plot libraries\n",
    "import seaborn as sns\n",
    "\n",
    "# remove warning for clean notebook\n",
    "import warnings\n",
    "warnings.filterwarnings(\"ignore\")"
   ]
  },
  {
   "cell_type": "markdown",
   "id": "ff977ea6-5b6f-4926-bfb5-7e695f2d166d",
   "metadata": {
    "jp-MarkdownHeadingCollapsed": true,
    "tags": []
   },
   "source": [
    "## Functions"
   ]
  },
  {
   "cell_type": "code",
   "execution_count": 2,
   "id": "60eb33a3-84ab-4e0e-9f33-6dec2341002c",
   "metadata": {},
   "outputs": [],
   "source": [
    "# save X and y for modelling purpose\n",
    "def get_X_y():\n",
    "    \n",
    "    X = []\n",
    "    y = []\n",
    "    \n",
    "    with open('pickle/data_X.pickle', 'rb') as file:\n",
    "        X = pickle.load(file)\n",
    "        \n",
    "    with open('pickle/data_y.pickle', 'rb') as file:\n",
    "        y = pickle.load(file)\n",
    "        \n",
    "    return X, y"
   ]
  },
  {
   "cell_type": "code",
   "execution_count": 3,
   "id": "a990954d-e4a0-4267-8af5-bdf2a50a68b3",
   "metadata": {},
   "outputs": [],
   "source": [
    "# returns scores for given models\n",
    "def get_algorithm_scores(model_params):\n",
    "    \n",
    "    scores = []\n",
    "    best_estimators = {}\n",
    "\n",
    "    for algorithm, model_param in model_params.items():\n",
    "\n",
    "        pipeline = make_pipeline(StandardScaler(), model_param['model'])\n",
    "        classifier =  GridSearchCV(pipeline, model_param['params'], cv = 5, return_train_score = False)\n",
    "        classifier.fit(X_train, y_train)\n",
    "\n",
    "        scores.append({'model': algorithm,\n",
    "                       'best_score': classifier.best_score_, \n",
    "                       'best_params' : classifier.best_params_})\n",
    "        \n",
    "        best_estimators[algorithm] = classifier.best_estimator_\n",
    "\n",
    "    return scores, best_estimators"
   ]
  },
  {
   "cell_type": "markdown",
   "id": "c628527b-b44f-4ea2-bec7-4964f3cc0c6f",
   "metadata": {},
   "source": [
    "## Data Management"
   ]
  },
  {
   "cell_type": "markdown",
   "id": "62ab6bb1-5a04-409b-98b9-f3c19393e2e6",
   "metadata": {
    "tags": []
   },
   "source": [
    "### Data Extraction"
   ]
  },
  {
   "cell_type": "code",
   "execution_count": 4,
   "id": "e5000121-04b2-4ff4-9da5-b8d4b1c791fd",
   "metadata": {},
   "outputs": [],
   "source": [
    "# get X and y\n",
    "X, y = get_X_y()\n",
    "\n",
    "# train and test split X and y\n",
    "X_train, X_test, y_train, y_test = train_test_split(X, y, test_size = 0.1, random_state = 0)"
   ]
  },
  {
   "cell_type": "markdown",
   "id": "06d13cd8-7595-4a66-b46b-73fb001b12f3",
   "metadata": {},
   "source": [
    "### Data Modelling"
   ]
  },
  {
   "cell_type": "markdown",
   "id": "d01036d5-ba86-4245-a2f7-0573453f9cf2",
   "metadata": {
    "tags": []
   },
   "source": [
    "#### Try algorithms with simple parameters first before hypertuning\n",
    "try various algorithms first before hyper tuning the paramteres to reduce calculation time"
   ]
  },
  {
   "cell_type": "code",
   "execution_count": 5,
   "id": "fb429c6c-4c79-4a5f-9037-d4df5bd12268",
   "metadata": {
    "tags": []
   },
   "outputs": [],
   "source": [
    "# various algorithms with standard parameters\n",
    "model_params_simple = {'svc': {'model' : SVC(), 'params' : {}}, \n",
    "                       'svr': {'model' : SVR(), 'params' : {}},\n",
    "                       \n",
    "                       'random_forest': {'model': RandomForestClassifier(), 'params' : {}}, \n",
    "                       'decision_tree_classifier': {'model': DecisionTreeClassifier(), 'params' : {}}, \n",
    "                       'decision_tree_regressor': {'model': DecisionTreeRegressor(), 'params' : {}}, \n",
    "                       \n",
    "                       'linear_regression' : {'model' : LinearRegression(), 'params' : {}},\n",
    "                       'logistic_regression' : {'model': LogisticRegression(max_iter = 10000), 'params' : {}},\n",
    "                       'lasso' : {'model' : Lasso(), 'params' : {}}}"
   ]
  },
  {
   "cell_type": "code",
   "execution_count": 6,
   "id": "918e4fb6-b8a5-419f-860a-a20a341213c6",
   "metadata": {},
   "outputs": [],
   "source": [
    "# try simple algorithms and get the scores\n",
    "simple_algo_scores, best_estimators = get_algorithm_scores(model_params_simple)"
   ]
  },
  {
   "cell_type": "code",
   "execution_count": 7,
   "id": "98e2ab37-1e77-43e4-89f9-f23bcfc01576",
   "metadata": {},
   "outputs": [
    {
     "data": {
      "text/html": [
       "<div>\n",
       "<style scoped>\n",
       "    .dataframe tbody tr th:only-of-type {\n",
       "        vertical-align: middle;\n",
       "    }\n",
       "\n",
       "    .dataframe tbody tr th {\n",
       "        vertical-align: top;\n",
       "    }\n",
       "\n",
       "    .dataframe thead th {\n",
       "        text-align: right;\n",
       "    }\n",
       "</style>\n",
       "<table border=\"1\" class=\"dataframe\">\n",
       "  <thead>\n",
       "    <tr style=\"text-align: right;\">\n",
       "      <th></th>\n",
       "      <th>model</th>\n",
       "      <th>best_score</th>\n",
       "    </tr>\n",
       "  </thead>\n",
       "  <tbody>\n",
       "    <tr>\n",
       "      <th>6</th>\n",
       "      <td>logistic_regression</td>\n",
       "      <td>0.694737</td>\n",
       "    </tr>\n",
       "    <tr>\n",
       "      <th>2</th>\n",
       "      <td>random_forest</td>\n",
       "      <td>0.678947</td>\n",
       "    </tr>\n",
       "    <tr>\n",
       "      <th>0</th>\n",
       "      <td>svc</td>\n",
       "      <td>0.652632</td>\n",
       "    </tr>\n",
       "    <tr>\n",
       "      <th>1</th>\n",
       "      <td>svr</td>\n",
       "      <td>0.482978</td>\n",
       "    </tr>\n",
       "    <tr>\n",
       "      <th>3</th>\n",
       "      <td>decision_tree_classifier</td>\n",
       "      <td>0.473684</td>\n",
       "    </tr>\n",
       "    <tr>\n",
       "      <th>5</th>\n",
       "      <td>linear_regression</td>\n",
       "      <td>0.392111</td>\n",
       "    </tr>\n",
       "    <tr>\n",
       "      <th>7</th>\n",
       "      <td>lasso</td>\n",
       "      <td>-0.014198</td>\n",
       "    </tr>\n",
       "    <tr>\n",
       "      <th>4</th>\n",
       "      <td>decision_tree_regressor</td>\n",
       "      <td>-0.277799</td>\n",
       "    </tr>\n",
       "  </tbody>\n",
       "</table>\n",
       "</div>"
      ],
      "text/plain": [
       "                      model  best_score\n",
       "6       logistic_regression    0.694737\n",
       "2             random_forest    0.678947\n",
       "0                       svc    0.652632\n",
       "1                       svr    0.482978\n",
       "3  decision_tree_classifier    0.473684\n",
       "5         linear_regression    0.392111\n",
       "7                     lasso   -0.014198\n",
       "4   decision_tree_regressor   -0.277799"
      ]
     },
     "execution_count": 7,
     "metadata": {},
     "output_type": "execute_result"
    }
   ],
   "source": [
    "# convert and store the result to csv file\n",
    "simple_algorithms_result = pd.DataFrame(simple_algo_scores, columns = ['model', 'best_score', 'best_params'])\n",
    "simple_algorithms_result.sort_values(by = ['best_score'], ascending = False, inplace = True)\n",
    "simple_algorithms_result.drop('best_params', axis = 1, inplace = True)\n",
    "simple_algorithms_result.to_csv('00_simple_algos_result.csv')\n",
    "simple_algorithms_result"
   ]
  },
  {
   "cell_type": "markdown",
   "id": "e0784f86-8157-45dc-bfc4-f15e06d4f21c",
   "metadata": {},
   "source": [
    "#### Hyper tune top 3 algorithms"
   ]
  },
  {
   "cell_type": "code",
   "execution_count": 8,
   "id": "cf8b3511-4913-472b-9f66-bcd782e273bb",
   "metadata": {},
   "outputs": [],
   "source": [
    "model_params_tune = {\n",
    "    'logistic_regression' : {\n",
    "        'model': LogisticRegression(C = 1., max_iter = 10000),\n",
    "        'params': {'logisticregression__solver' : ['lbfgs', 'liblinear', 'sag', 'saga'], \n",
    "                   'logisticregression__multi_class' : ['auto', 'ovr', 'multinomial']}},\n",
    "                \n",
    "    'random_forest': {\n",
    "        'model': RandomForestClassifier(),\n",
    "        'params' : {'randomforestclassifier__n_estimators' : [50, 100, 250], \n",
    "                    'randomforestclassifier__criterion' : ['gini', 'entropy']}},\n",
    "    'svc': {\n",
    "        'model' : SVC(probability = True),\n",
    "        'params' : {'svc__C': [1, 10, 100, 1000],\n",
    "                    'svc__kernel': ['rbf','sigmoid'], \n",
    "                    'svc__gamma' : ['auto', 'scale']}}\n",
    "}"
   ]
  },
  {
   "cell_type": "code",
   "execution_count": 9,
   "id": "fffe8a38-6b05-4620-b41a-680ba56bcdad",
   "metadata": {},
   "outputs": [],
   "source": [
    "# try simple algorithms and get the scores\n",
    "tuned_algo_scores, best_estimators = get_algorithm_scores(model_params_tune)"
   ]
  },
  {
   "cell_type": "code",
   "execution_count": 10,
   "id": "2f9a6ee0-ca6f-4c32-baec-c7ede49772be",
   "metadata": {},
   "outputs": [
    {
     "data": {
      "text/html": [
       "<div>\n",
       "<style scoped>\n",
       "    .dataframe tbody tr th:only-of-type {\n",
       "        vertical-align: middle;\n",
       "    }\n",
       "\n",
       "    .dataframe tbody tr th {\n",
       "        vertical-align: top;\n",
       "    }\n",
       "\n",
       "    .dataframe thead th {\n",
       "        text-align: right;\n",
       "    }\n",
       "</style>\n",
       "<table border=\"1\" class=\"dataframe\">\n",
       "  <thead>\n",
       "    <tr style=\"text-align: right;\">\n",
       "      <th></th>\n",
       "      <th>model</th>\n",
       "      <th>best_score</th>\n",
       "      <th>best_params</th>\n",
       "    </tr>\n",
       "  </thead>\n",
       "  <tbody>\n",
       "    <tr>\n",
       "      <th>0</th>\n",
       "      <td>logistic_regression</td>\n",
       "      <td>0.747368</td>\n",
       "      <td>{'logisticregression__multi_class': 'auto', 'l...</td>\n",
       "    </tr>\n",
       "    <tr>\n",
       "      <th>2</th>\n",
       "      <td>svc</td>\n",
       "      <td>0.726316</td>\n",
       "      <td>{'svc__C': 10, 'svc__gamma': 'auto', 'svc__ker...</td>\n",
       "    </tr>\n",
       "    <tr>\n",
       "      <th>1</th>\n",
       "      <td>random_forest</td>\n",
       "      <td>0.710526</td>\n",
       "      <td>{'randomforestclassifier__criterion': 'entropy...</td>\n",
       "    </tr>\n",
       "  </tbody>\n",
       "</table>\n",
       "</div>"
      ],
      "text/plain": [
       "                 model  best_score  \\\n",
       "0  logistic_regression    0.747368   \n",
       "2                  svc    0.726316   \n",
       "1        random_forest    0.710526   \n",
       "\n",
       "                                         best_params  \n",
       "0  {'logisticregression__multi_class': 'auto', 'l...  \n",
       "2  {'svc__C': 10, 'svc__gamma': 'auto', 'svc__ker...  \n",
       "1  {'randomforestclassifier__criterion': 'entropy...  "
      ]
     },
     "execution_count": 10,
     "metadata": {},
     "output_type": "execute_result"
    }
   ],
   "source": [
    "# convert and store the result to csv file\n",
    "tuned_algorithms_result = pd.DataFrame(tuned_algo_scores, columns = ['model', 'best_score', 'best_params'])\n",
    "tuned_algorithms_result.sort_values(by = ['best_score'], ascending = False, inplace = True)\n",
    "tuned_algorithms_result.to_csv('01_tuned_algos_result.csv')\n",
    "tuned_algorithms_result"
   ]
  },
  {
   "cell_type": "markdown",
   "id": "c5509e11-f57a-4b9e-8268-a79e2f4ce25c",
   "metadata": {},
   "source": [
    "#### Test and Train Scores for top 3 Classifiers"
   ]
  },
  {
   "cell_type": "code",
   "execution_count": 11,
   "id": "69994f8f-98a8-4aa1-a4cc-15410c1445df",
   "metadata": {},
   "outputs": [
    {
     "name": "stdout",
     "output_type": "stream",
     "text": [
      "logistics_reg test score: 0.8181818181818182\n",
      "logistics_reg train score: 1.0\n"
     ]
    }
   ],
   "source": [
    "print('logistics_reg test score:', best_estimators['logistic_regression'].score(X_test, y_test))\n",
    "print('logistics_reg train score:', best_estimators['logistic_regression'].score(X_train, y_train))"
   ]
  },
  {
   "cell_type": "code",
   "execution_count": 12,
   "id": "0b4fb026-2b7e-40df-9173-7a72f9a42e73",
   "metadata": {},
   "outputs": [
    {
     "name": "stdout",
     "output_type": "stream",
     "text": [
      "random_forest test score: 0.7727272727272727\n",
      "random_forest train score: 1.0\n"
     ]
    }
   ],
   "source": [
    "print('random_forest test score:', best_estimators['random_forest'].score(X_test, y_test))\n",
    "print('random_forest train score:', best_estimators['random_forest'].score(X_train, y_train))"
   ]
  },
  {
   "cell_type": "code",
   "execution_count": 13,
   "id": "e73d7c37-d004-45dc-b964-44bae465f293",
   "metadata": {},
   "outputs": [
    {
     "name": "stdout",
     "output_type": "stream",
     "text": [
      "SVC test score: 0.7727272727272727\n",
      "SVC train score: 1.0\n"
     ]
    }
   ],
   "source": [
    "print('SVC test score:', best_estimators['svc'].score(X_test, y_test))\n",
    "print('SVC train score:', best_estimators['svc'].score(X_train, y_train))"
   ]
  },
  {
   "cell_type": "markdown",
   "id": "d1d9db2a-9e1e-42cb-83a6-c75a9b53fefa",
   "metadata": {},
   "source": [
    "#### Best Classifier and Confusion Matrix"
   ]
  },
  {
   "cell_type": "code",
   "execution_count": 14,
   "id": "bb330369-953a-43eb-859f-729d18aaca20",
   "metadata": {},
   "outputs": [
    {
     "data": {
      "text/plain": [
       "<AxesSubplot:>"
      ]
     },
     "execution_count": 14,
     "metadata": {},
     "output_type": "execute_result"
    },
    {
     "data": {
      "image/png": "[encoded data removed]",
      "text/plain": [
       "<Figure size 640x480 with 2 Axes>"
      ]
     },
     "metadata": {},
     "output_type": "display_data"
    }
   ],
   "source": [
    "best_classifier = best_estimators['logistic_regression']\n",
    "\n",
    "sns.heatmap(confusion_matrix(y_test, best_classifier.predict(X_test)), annot = True)"
   ]
  }
 ],
 "metadata": {
  "kernelspec": {
   "display_name": "Python 3 (ipykernel)",
   "language": "python",
   "name": "python3"
  },
  "language_info": {
   "codemirror_mode": {
    "name": "ipython",
    "version": 3
   },
   "file_extension": ".py",
   "mimetype": "text/x-python",
   "name": "python",
   "nbconvert_exporter": "python",
   "pygments_lexer": "ipython3",
   "version": "3.9.13"
  }
 },
 "nbformat": 4,
 "nbformat_minor": 5
}
